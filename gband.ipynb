{
 "cells": [
  {
   "cell_type": "code",
   "execution_count": 2,
   "metadata": {},
   "outputs": [],
   "source": [
    "from astropy.io import fits\n",
    "from astropy.wcs import WCS\n",
    "from astropy.stats import sigma_clipped_stats\n",
    "import glob\n",
    "import os\n",
    "import subprocess\n",
    "import warnings\n",
    "import numpy as np\n",
    "import matplotlib.pyplot as plt\n",
    "import photutils\n",
    "import pyregion"
   ]
  },
  {
   "cell_type": "code",
   "execution_count": 48,
   "metadata": {},
   "outputs": [
    {
     "name": "stdout",
     "output_type": "stream",
     "text": [
      "['20230521151417-752-RA.fits', '20230522153045-729-RA.fits', '20230524182725-957-RA.fits', '20230526152122-558-RA.fits', '20230523210842-911-RA.fits', '20230521154933-241-RA.fits', '20230520151900-863-RA.fits']\n",
      "['20230525_masterbias.fits', '20230528_masterbias.fits', '20230603_masterbias.fits', '20230605_masterbias.fits', '20230530_masterbias.fits', '20230604_masterbias.fits']\n",
      "['20230526_masterflat_g_.fits', '20230527_masterflat_g_.fits', '20230603_masterflat_g_.fits', 'masterflat_g_.fits', '20230606_masterflat_g_.fits', '20230605_masterflat_g_.fits']\n"
     ]
    }
   ],
   "source": [
    "#to know the files\n",
    "for i in ['data','bias','flat']:\n",
    "    os.chdir(i)\n",
    "    c=[x for x in os.listdir() if 'Zone' not in x]\n",
    "    print(c)\n",
    "    os.chdir('../')\n",
    "curpath=os.path.abspath('.') "
   ]
  },
  {
   "cell_type": "code",
   "execution_count": 49,
   "metadata": {},
   "outputs": [],
   "source": [
    "#files name lists\n",
    "data_files=['20230521151417-752-RA.fits', '20230522153045-729-RA.fits', '20230524182725-957-RA.fits', '20230526152122-558-RA.fits', '20230523210842-911-RA.fits', '20230521154933-241-RA.fits', '20230520151900-863-RA.fits']\n",
    "bias_files=['20230525_masterbias.fits', '20230528_masterbias.fits', '20230603_masterbias.fits', '20230605_masterbias.fits', '20230530_masterbias.fits', '20230604_masterbias.fits']\n",
    "flat_files=['20230526_masterflat_g_.fits', '20230527_masterflat_g_.fits', '20230603_masterflat_g_.fits','20230606_masterflat_g_.fits', '20230605_masterflat_g_.fits']\n",
    "#ignoring the general masterflat as using closest date"
   ]
  },
  {
   "cell_type": "code",
   "execution_count": 42,
   "metadata": {},
   "outputs": [],
   "source": [
    "#creating proc folder\n",
    "procFolder = os.path.join(curpath, 'processing')\n",
    "\n",
    "if not os.path.isdir(procFolder): \n",
    "    os.mkdir(procFolder)\n",
    "else:\n",
    "    for f in os.listdir(procFolder):\n",
    "        try:\n",
    "            os.remove(os.path.join(procFolder,f)) # clear the processing folder from previous iterations\n",
    "        except:\n",
    "            print('Could not remove',f)\n",
    "\n",
    "procList = [os.path.join(procFolder, file).replace('.fits','.proc.fits') for file in data_files]\n"
   ]
  },
  {
   "cell_type": "code",
   "execution_count": 1,
   "metadata": {},
   "outputs": [],
   "source": [
    "#usefull definitions\n",
    "\n",
    "def find_closest(data_date, calibfiles):\n",
    "    calib_file_dates = [(file, extract_date(file)) for file in calibfiles]\n",
    "    closest_file = None\n",
    "    min_diff=np.inf\n",
    "    for file, date in calib_file_dates:\n",
    "        date_diff = abs(date - data_date)\n",
    "        if date_diff < min_diff:\n",
    "            min_diff = date_diff\n",
    "            closest_file = file    \n",
    "    return closest_file\n",
    "\n",
    "def extract_date(filename):\n",
    "    return int(filename[:8])"
   ]
  },
  {
   "cell_type": "code",
   "execution_count": 47,
   "metadata": {},
   "outputs": [
    {
     "name": "stderr",
     "output_type": "stream",
     "text": [
      "/tmp/ipykernel_2804/3303922994.py:29: RuntimeWarning: divide by zero encountered in divide\n",
      "  procData = procData / flatData\n"
     ]
    },
    {
     "name": "stdout",
     "output_type": "stream",
     "text": [
      "20230521151417-752-RA.fits -> /home/mayank/astronomybro/g_band/processing/20230521151417-752-RA.proc.fits\n"
     ]
    },
    {
     "name": "stderr",
     "output_type": "stream",
     "text": [
      "/tmp/ipykernel_2804/3303922994.py:29: RuntimeWarning: invalid value encountered in divide\n",
      "  procData = procData / flatData\n"
     ]
    },
    {
     "name": "stdout",
     "output_type": "stream",
     "text": [
      "20230522153045-729-RA.fits -> /home/mayank/astronomybro/g_band/processing/20230522153045-729-RA.proc.fits\n",
      "20230524182725-957-RA.fits -> /home/mayank/astronomybro/g_band/processing/20230524182725-957-RA.proc.fits\n",
      "20230526152122-558-RA.fits -> /home/mayank/astronomybro/g_band/processing/20230526152122-558-RA.proc.fits\n",
      "20230523210842-911-RA.fits -> /home/mayank/astronomybro/g_band/processing/20230523210842-911-RA.proc.fits\n",
      "20230521154933-241-RA.fits -> /home/mayank/astronomybro/g_band/processing/20230521154933-241-RA.proc.fits\n",
      "20230520151900-863-RA.fits -> /home/mayank/astronomybro/g_band/processing/20230520151900-863-RA.proc.fits\n"
     ]
    }
   ],
   "source": [
    "#processing\n",
    "for data_file in data_files:\n",
    "    data_date = extract_date(data_file)\n",
    "    closest_bias = find_closest(data_date, bias_files)\n",
    "    closest_flat = find_closest(data_date, flat_files)\n",
    "\n",
    "    HDUList = fits.open(os.path.join(curpath, 'data', data_file))\n",
    "    primaryHeader = HDUList[0].header\n",
    "    if len(HDUList) > 1: #as got error - maybe header missing in some files\n",
    "        imageData = HDUList[1].data\n",
    "    else:\n",
    "        imageData = HDUList[0].data\n",
    "    HDUList.close()\n",
    "\n",
    "    HDUList = fits.open(os.path.join(curpath, 'bias', closest_bias))\n",
    "    biasData = HDUList[0].data    \n",
    "    HDUList.close()\n",
    "\n",
    "    procData = (imageData - biasData)\n",
    "\n",
    "    HDUList = fits.open(os.path.join(curpath, 'flat', closest_flat))\n",
    "    flatData = HDUList[0].data    \n",
    "    HDUList.close()\n",
    "\n",
    "    procData = procData / flatData\n",
    "\n",
    "    procHDU = fits.PrimaryHDU(procData)\n",
    "    procHDU.header = primaryHeader\n",
    "    procHDU.header.add_history('Bias corrected and flat-fielded')\n",
    "    output_filename = procList[data_files.index(data_file)]\n",
    "    procHDU.writeto(output_filename, overwrite=True)\n",
    "    print(f'{data_file} -> {output_filename}')\n",
    "\n"
   ]
  },
  {
   "cell_type": "code",
   "execution_count": null,
   "metadata": {},
   "outputs": [],
   "source": []
  }
 ],
 "metadata": {
  "kernelspec": {
   "display_name": "astronomybro",
   "language": "python",
   "name": "python3"
  },
  "language_info": {
   "codemirror_mode": {
    "name": "ipython",
    "version": 3
   },
   "file_extension": ".py",
   "mimetype": "text/x-python",
   "name": "python",
   "nbconvert_exporter": "python",
   "pygments_lexer": "ipython3",
   "version": "3.10.12"
  }
 },
 "nbformat": 4,
 "nbformat_minor": 2
}
